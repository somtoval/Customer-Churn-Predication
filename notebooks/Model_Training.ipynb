{
 "cells": [
  {
   "cell_type": "code",
   "execution_count": 5,
   "id": "31e1c31e",
   "metadata": {},
   "outputs": [],
   "source": [
    "import numpy as np\n",
    "import pandas as pd\n",
    "import matplotlib.pyplot as plt\n",
    "import seaborn as sns\n",
    "\n",
    "import pickle"
   ]
  },
  {
   "cell_type": "code",
   "execution_count": 6,
   "id": "f6e81ee1",
   "metadata": {},
   "outputs": [],
   "source": [
    "with open('./artifacts/df.pkl', 'rb') as file:\n",
    "    loaded_data = pickle.load(file)"
   ]
  },
  {
   "cell_type": "code",
   "execution_count": 9,
   "id": "25de8093",
   "metadata": {},
   "outputs": [
    {
     "data": {
      "text/html": [
       "<div>\n",
       "<style scoped>\n",
       "    .dataframe tbody tr th:only-of-type {\n",
       "        vertical-align: middle;\n",
       "    }\n",
       "\n",
       "    .dataframe tbody tr th {\n",
       "        vertical-align: top;\n",
       "    }\n",
       "\n",
       "    .dataframe thead th {\n",
       "        text-align: right;\n",
       "    }\n",
       "</style>\n",
       "<table border=\"1\" class=\"dataframe\">\n",
       "  <thead>\n",
       "    <tr style=\"text-align: right;\">\n",
       "      <th></th>\n",
       "      <th>AccountWeeks</th>\n",
       "      <th>DataUsage</th>\n",
       "      <th>DayMins</th>\n",
       "      <th>DayCalls</th>\n",
       "      <th>MonthlyCharge</th>\n",
       "      <th>OverageFee</th>\n",
       "      <th>RoamMins</th>\n",
       "      <th>ContractRenewal</th>\n",
       "      <th>DataPlan</th>\n",
       "      <th>CustServCalls</th>\n",
       "      <th>Churn</th>\n",
       "    </tr>\n",
       "  </thead>\n",
       "  <tbody>\n",
       "    <tr>\n",
       "      <th>0</th>\n",
       "      <td>0.705099</td>\n",
       "      <td>-0.453011</td>\n",
       "      <td>1.189742</td>\n",
       "      <td>0.483131</td>\n",
       "      <td>2.055854</td>\n",
       "      <td>-0.202459</td>\n",
       "      <td>-0.174752</td>\n",
       "      <td>1</td>\n",
       "      <td>1</td>\n",
       "      <td>1</td>\n",
       "      <td>0</td>\n",
       "    </tr>\n",
       "    <tr>\n",
       "      <th>1</th>\n",
       "      <td>0.152564</td>\n",
       "      <td>-0.453011</td>\n",
       "      <td>-0.480138</td>\n",
       "      <td>1.172095</td>\n",
       "      <td>1.604486</td>\n",
       "      <td>-0.240904</td>\n",
       "      <td>1.367827</td>\n",
       "      <td>1</td>\n",
       "      <td>1</td>\n",
       "      <td>1</td>\n",
       "      <td>0</td>\n",
       "    </tr>\n",
       "    <tr>\n",
       "      <th>2</th>\n",
       "      <td>0.941900</td>\n",
       "      <td>-0.453011</td>\n",
       "      <td>0.839632</td>\n",
       "      <td>0.695120</td>\n",
       "      <td>-0.329949</td>\n",
       "      <td>-1.829964</td>\n",
       "      <td>0.742457</td>\n",
       "      <td>1</td>\n",
       "      <td>0</td>\n",
       "      <td>0</td>\n",
       "      <td>0</td>\n",
       "    </tr>\n",
       "    <tr>\n",
       "      <th>3</th>\n",
       "      <td>-0.452594</td>\n",
       "      <td>-0.453011</td>\n",
       "      <td>1.743142</td>\n",
       "      <td>-1.583763</td>\n",
       "      <td>-0.007543</td>\n",
       "      <td>0.023618</td>\n",
       "      <td>-1.592257</td>\n",
       "      <td>0</td>\n",
       "      <td>0</td>\n",
       "      <td>2</td>\n",
       "      <td>0</td>\n",
       "    </tr>\n",
       "    <tr>\n",
       "      <th>4</th>\n",
       "      <td>-0.689395</td>\n",
       "      <td>-0.453011</td>\n",
       "      <td>-0.397854</td>\n",
       "      <td>0.642122</td>\n",
       "      <td>-1.039241</td>\n",
       "      <td>-1.249017</td>\n",
       "      <td>-0.133061</td>\n",
       "      <td>0</td>\n",
       "      <td>0</td>\n",
       "      <td>3</td>\n",
       "      <td>0</td>\n",
       "    </tr>\n",
       "    <tr>\n",
       "      <th>...</th>\n",
       "      <td>...</td>\n",
       "      <td>...</td>\n",
       "      <td>...</td>\n",
       "      <td>...</td>\n",
       "      <td>...</td>\n",
       "      <td>...</td>\n",
       "      <td>...</td>\n",
       "      <td>...</td>\n",
       "      <td>...</td>\n",
       "      <td>...</td>\n",
       "      <td>...</td>\n",
       "    </tr>\n",
       "    <tr>\n",
       "      <th>5695</th>\n",
       "      <td>1.310257</td>\n",
       "      <td>0.541480</td>\n",
       "      <td>0.488608</td>\n",
       "      <td>-0.682809</td>\n",
       "      <td>0.490822</td>\n",
       "      <td>2.011430</td>\n",
       "      <td>1.447862</td>\n",
       "      <td>1</td>\n",
       "      <td>0</td>\n",
       "      <td>1</td>\n",
       "      <td>1</td>\n",
       "    </tr>\n",
       "    <tr>\n",
       "      <th>5696</th>\n",
       "      <td>-2.136512</td>\n",
       "      <td>-0.453011</td>\n",
       "      <td>2.015352</td>\n",
       "      <td>0.695120</td>\n",
       "      <td>1.095355</td>\n",
       "      <td>0.454180</td>\n",
       "      <td>0.391381</td>\n",
       "      <td>1</td>\n",
       "      <td>0</td>\n",
       "      <td>1</td>\n",
       "      <td>1</td>\n",
       "    </tr>\n",
       "    <tr>\n",
       "      <th>5697</th>\n",
       "      <td>1.020834</td>\n",
       "      <td>-0.453011</td>\n",
       "      <td>-0.817369</td>\n",
       "      <td>-0.576815</td>\n",
       "      <td>-1.248179</td>\n",
       "      <td>-1.106024</td>\n",
       "      <td>0.060939</td>\n",
       "      <td>0</td>\n",
       "      <td>0</td>\n",
       "      <td>3</td>\n",
       "      <td>1</td>\n",
       "    </tr>\n",
       "    <tr>\n",
       "      <th>5698</th>\n",
       "      <td>-0.794640</td>\n",
       "      <td>-0.162949</td>\n",
       "      <td>1.612410</td>\n",
       "      <td>0.377136</td>\n",
       "      <td>0.896696</td>\n",
       "      <td>0.875524</td>\n",
       "      <td>-0.152492</td>\n",
       "      <td>1</td>\n",
       "      <td>0</td>\n",
       "      <td>2</td>\n",
       "      <td>1</td>\n",
       "    </tr>\n",
       "    <tr>\n",
       "      <th>5699</th>\n",
       "      <td>0.099941</td>\n",
       "      <td>-0.453011</td>\n",
       "      <td>1.354732</td>\n",
       "      <td>0.960106</td>\n",
       "      <td>0.932474</td>\n",
       "      <td>1.626511</td>\n",
       "      <td>0.023704</td>\n",
       "      <td>0</td>\n",
       "      <td>0</td>\n",
       "      <td>0</td>\n",
       "      <td>1</td>\n",
       "    </tr>\n",
       "  </tbody>\n",
       "</table>\n",
       "<p>5700 rows × 11 columns</p>\n",
       "</div>"
      ],
      "text/plain": [
       "      AccountWeeks  DataUsage   DayMins  DayCalls  MonthlyCharge  OverageFee  \\\n",
       "0         0.705099  -0.453011  1.189742  0.483131       2.055854   -0.202459   \n",
       "1         0.152564  -0.453011 -0.480138  1.172095       1.604486   -0.240904   \n",
       "2         0.941900  -0.453011  0.839632  0.695120      -0.329949   -1.829964   \n",
       "3        -0.452594  -0.453011  1.743142 -1.583763      -0.007543    0.023618   \n",
       "4        -0.689395  -0.453011 -0.397854  0.642122      -1.039241   -1.249017   \n",
       "...            ...        ...       ...       ...            ...         ...   \n",
       "5695      1.310257   0.541480  0.488608 -0.682809       0.490822    2.011430   \n",
       "5696     -2.136512  -0.453011  2.015352  0.695120       1.095355    0.454180   \n",
       "5697      1.020834  -0.453011 -0.817369 -0.576815      -1.248179   -1.106024   \n",
       "5698     -0.794640  -0.162949  1.612410  0.377136       0.896696    0.875524   \n",
       "5699      0.099941  -0.453011  1.354732  0.960106       0.932474    1.626511   \n",
       "\n",
       "      RoamMins  ContractRenewal  DataPlan  CustServCalls  Churn  \n",
       "0    -0.174752                1         1              1      0  \n",
       "1     1.367827                1         1              1      0  \n",
       "2     0.742457                1         0              0      0  \n",
       "3    -1.592257                0         0              2      0  \n",
       "4    -0.133061                0         0              3      0  \n",
       "...        ...              ...       ...            ...    ...  \n",
       "5695  1.447862                1         0              1      1  \n",
       "5696  0.391381                1         0              1      1  \n",
       "5697  0.060939                0         0              3      1  \n",
       "5698 -0.152492                1         0              2      1  \n",
       "5699  0.023704                0         0              0      1  \n",
       "\n",
       "[5700 rows x 11 columns]"
      ]
     },
     "execution_count": 9,
     "metadata": {},
     "output_type": "execute_result"
    }
   ],
   "source": [
    "df = loaded_data\n",
    "df"
   ]
  },
  {
   "cell_type": "code",
   "execution_count": 11,
   "id": "1187cad7",
   "metadata": {},
   "outputs": [],
   "source": [
    "X = df.drop('Churn', axis=1)"
   ]
  },
  {
   "cell_type": "code",
   "execution_count": 12,
   "id": "85d3f173",
   "metadata": {},
   "outputs": [],
   "source": [
    "y = df['Churn']"
   ]
  },
  {
   "cell_type": "code",
   "execution_count": 13,
   "id": "77abdb3b",
   "metadata": {},
   "outputs": [],
   "source": [
    "from sklearn.model_selection import train_test_split\n",
    "\n",
    "X_train,X_test,y_train,y_test=train_test_split(X,y,test_size=0.25,random_state=42)"
   ]
  },
  {
   "cell_type": "code",
   "execution_count": 14,
   "id": "6122484e",
   "metadata": {},
   "outputs": [
    {
     "data": {
      "text/plain": [
       "((4275, 10), (1425, 10), (4275,), (1425,))"
      ]
     },
     "execution_count": 14,
     "metadata": {},
     "output_type": "execute_result"
    }
   ],
   "source": [
    "X_train.shape,X_test.shape,y_train.shape,y_test.shape"
   ]
  },
  {
   "cell_type": "markdown",
   "id": "0b16bee9",
   "metadata": {},
   "source": [
    "### Modeling"
   ]
  },
  {
   "cell_type": "code",
   "execution_count": 15,
   "id": "a1479da1",
   "metadata": {},
   "outputs": [],
   "source": [
    "from sklearn.linear_model import LogisticRegression"
   ]
  },
  {
   "cell_type": "code",
   "execution_count": 16,
   "id": "e01133cf",
   "metadata": {},
   "outputs": [],
   "source": [
    "classifier=LogisticRegression(max_iter=200)"
   ]
  },
  {
   "cell_type": "code",
   "execution_count": 17,
   "id": "000fed6c",
   "metadata": {},
   "outputs": [
    {
     "data": {
      "text/html": [
       "<style>#sk-container-id-1 {color: black;background-color: white;}#sk-container-id-1 pre{padding: 0;}#sk-container-id-1 div.sk-toggleable {background-color: white;}#sk-container-id-1 label.sk-toggleable__label {cursor: pointer;display: block;width: 100%;margin-bottom: 0;padding: 0.3em;box-sizing: border-box;text-align: center;}#sk-container-id-1 label.sk-toggleable__label-arrow:before {content: \"▸\";float: left;margin-right: 0.25em;color: #696969;}#sk-container-id-1 label.sk-toggleable__label-arrow:hover:before {color: black;}#sk-container-id-1 div.sk-estimator:hover label.sk-toggleable__label-arrow:before {color: black;}#sk-container-id-1 div.sk-toggleable__content {max-height: 0;max-width: 0;overflow: hidden;text-align: left;background-color: #f0f8ff;}#sk-container-id-1 div.sk-toggleable__content pre {margin: 0.2em;color: black;border-radius: 0.25em;background-color: #f0f8ff;}#sk-container-id-1 input.sk-toggleable__control:checked~div.sk-toggleable__content {max-height: 200px;max-width: 100%;overflow: auto;}#sk-container-id-1 input.sk-toggleable__control:checked~label.sk-toggleable__label-arrow:before {content: \"▾\";}#sk-container-id-1 div.sk-estimator input.sk-toggleable__control:checked~label.sk-toggleable__label {background-color: #d4ebff;}#sk-container-id-1 div.sk-label input.sk-toggleable__control:checked~label.sk-toggleable__label {background-color: #d4ebff;}#sk-container-id-1 input.sk-hidden--visually {border: 0;clip: rect(1px 1px 1px 1px);clip: rect(1px, 1px, 1px, 1px);height: 1px;margin: -1px;overflow: hidden;padding: 0;position: absolute;width: 1px;}#sk-container-id-1 div.sk-estimator {font-family: monospace;background-color: #f0f8ff;border: 1px dotted black;border-radius: 0.25em;box-sizing: border-box;margin-bottom: 0.5em;}#sk-container-id-1 div.sk-estimator:hover {background-color: #d4ebff;}#sk-container-id-1 div.sk-parallel-item::after {content: \"\";width: 100%;border-bottom: 1px solid gray;flex-grow: 1;}#sk-container-id-1 div.sk-label:hover label.sk-toggleable__label {background-color: #d4ebff;}#sk-container-id-1 div.sk-serial::before {content: \"\";position: absolute;border-left: 1px solid gray;box-sizing: border-box;top: 0;bottom: 0;left: 50%;z-index: 0;}#sk-container-id-1 div.sk-serial {display: flex;flex-direction: column;align-items: center;background-color: white;padding-right: 0.2em;padding-left: 0.2em;position: relative;}#sk-container-id-1 div.sk-item {position: relative;z-index: 1;}#sk-container-id-1 div.sk-parallel {display: flex;align-items: stretch;justify-content: center;background-color: white;position: relative;}#sk-container-id-1 div.sk-item::before, #sk-container-id-1 div.sk-parallel-item::before {content: \"\";position: absolute;border-left: 1px solid gray;box-sizing: border-box;top: 0;bottom: 0;left: 50%;z-index: -1;}#sk-container-id-1 div.sk-parallel-item {display: flex;flex-direction: column;z-index: 1;position: relative;background-color: white;}#sk-container-id-1 div.sk-parallel-item:first-child::after {align-self: flex-end;width: 50%;}#sk-container-id-1 div.sk-parallel-item:last-child::after {align-self: flex-start;width: 50%;}#sk-container-id-1 div.sk-parallel-item:only-child::after {width: 0;}#sk-container-id-1 div.sk-dashed-wrapped {border: 1px dashed gray;margin: 0 0.4em 0.5em 0.4em;box-sizing: border-box;padding-bottom: 0.4em;background-color: white;}#sk-container-id-1 div.sk-label label {font-family: monospace;font-weight: bold;display: inline-block;line-height: 1.2em;}#sk-container-id-1 div.sk-label-container {text-align: center;}#sk-container-id-1 div.sk-container {/* jupyter's `normalize.less` sets `[hidden] { display: none; }` but bootstrap.min.css set `[hidden] { display: none !important; }` so we also need the `!important` here to be able to override the default hidden behavior on the sphinx rendered scikit-learn.org. See: https://github.com/scikit-learn/scikit-learn/issues/21755 */display: inline-block !important;position: relative;}#sk-container-id-1 div.sk-text-repr-fallback {display: none;}</style><div id=\"sk-container-id-1\" class=\"sk-top-container\"><div class=\"sk-text-repr-fallback\"><pre>LogisticRegression(max_iter=200)</pre><b>In a Jupyter environment, please rerun this cell to show the HTML representation or trust the notebook. <br />On GitHub, the HTML representation is unable to render, please try loading this page with nbviewer.org.</b></div><div class=\"sk-container\" hidden><div class=\"sk-item\"><div class=\"sk-estimator sk-toggleable\"><input class=\"sk-toggleable__control sk-hidden--visually\" id=\"sk-estimator-id-1\" type=\"checkbox\" checked><label for=\"sk-estimator-id-1\" class=\"sk-toggleable__label sk-toggleable__label-arrow\">LogisticRegression</label><div class=\"sk-toggleable__content\"><pre>LogisticRegression(max_iter=200)</pre></div></div></div></div></div>"
      ],
      "text/plain": [
       "LogisticRegression(max_iter=200)"
      ]
     },
     "execution_count": 17,
     "metadata": {},
     "output_type": "execute_result"
    }
   ],
   "source": [
    "classifier.fit(X_train, y_train)"
   ]
  },
  {
   "cell_type": "code",
   "execution_count": 20,
   "id": "27363b6b",
   "metadata": {},
   "outputs": [
    {
     "data": {
      "text/plain": [
       "array([0, 1, 1, ..., 1, 0, 1], dtype=int64)"
      ]
     },
     "execution_count": 20,
     "metadata": {},
     "output_type": "execute_result"
    }
   ],
   "source": [
    "y_pred = classifier.predict(X_test)\n",
    "y_pred"
   ]
  },
  {
   "cell_type": "code",
   "execution_count": 21,
   "id": "2401f5ca",
   "metadata": {},
   "outputs": [],
   "source": [
    "from sklearn.metrics import confusion_matrix,accuracy_score,classification_report"
   ]
  },
  {
   "cell_type": "code",
   "execution_count": 24,
   "id": "c69052c9",
   "metadata": {},
   "outputs": [
    {
     "data": {
      "text/plain": [
       "array([[592, 146],\n",
       "       [146, 541]], dtype=int64)"
      ]
     },
     "execution_count": 24,
     "metadata": {},
     "output_type": "execute_result"
    }
   ],
   "source": [
    "confusion_matrix(y_test, y_pred)"
   ]
  },
  {
   "cell_type": "code",
   "execution_count": 25,
   "id": "2b91726a",
   "metadata": {},
   "outputs": [
    {
     "data": {
      "text/plain": [
       "0.7950877192982456"
      ]
     },
     "execution_count": 25,
     "metadata": {},
     "output_type": "execute_result"
    }
   ],
   "source": [
    "accuracy_score(y_test, y_pred)"
   ]
  },
  {
   "cell_type": "code",
   "execution_count": 27,
   "id": "94ea9a1c",
   "metadata": {
    "scrolled": true
   },
   "outputs": [
    {
     "name": "stdout",
     "output_type": "stream",
     "text": [
      "              precision    recall  f1-score   support\n",
      "\n",
      "           0       0.80      0.80      0.80       738\n",
      "           1       0.79      0.79      0.79       687\n",
      "\n",
      "    accuracy                           0.80      1425\n",
      "   macro avg       0.79      0.79      0.79      1425\n",
      "weighted avg       0.80      0.80      0.80      1425\n",
      "\n"
     ]
    }
   ],
   "source": [
    "print(classification_report(y_test, y_pred))"
   ]
  },
  {
   "cell_type": "code",
   "execution_count": 30,
   "id": "3436a237",
   "metadata": {},
   "outputs": [],
   "source": [
    "from sklearn.linear_model import LogisticRegression\n",
    "from sklearn.svm import SVC\n",
    "from sklearn.ensemble import RandomForestClassifier\n",
    "from sklearn.neighbors import KNeighborsClassifier\n",
    "from sklearn.tree import DecisionTreeClassifier\n",
    "from sklearn.ensemble import GradientBoostingClassifier\n",
    "from sklearn.ensemble import AdaBoostClassifier"
   ]
  },
  {
   "cell_type": "code",
   "execution_count": 31,
   "id": "51705ecb",
   "metadata": {},
   "outputs": [],
   "source": [
    "def evaluate_model(true, predicted):\n",
    "    accuracy = accuracy_score(true, predicted)\n",
    "    conf_matrix = confusion_matrix(true, predicted)\n",
    "    report = classification_report(true,predicted)\n",
    "    return accuracy, conf_matrix, report"
   ]
  },
  {
   "cell_type": "code",
   "execution_count": 33,
   "id": "712b1385",
   "metadata": {
    "scrolled": true
   },
   "outputs": [
    {
     "name": "stdout",
     "output_type": "stream",
     "text": [
      "Logistic Regression\n",
      "Model Training Performance\n",
      "Accuracy: 0.7950877192982456\n",
      "Confusion Matrix:\n",
      " [[592 146]\n",
      " [146 541]]\n",
      "Report               precision    recall  f1-score   support\n",
      "\n",
      "           0       0.80      0.80      0.80       738\n",
      "           1       0.79      0.79      0.79       687\n",
      "\n",
      "    accuracy                           0.80      1425\n",
      "   macro avg       0.79      0.79      0.79      1425\n",
      "weighted avg       0.80      0.80      0.80      1425\n",
      "\n",
      "===================================\n",
      "\n",
      "\n",
      "SVC\n",
      "Model Training Performance\n",
      "Accuracy: 0.8898245614035087\n",
      "Confusion Matrix:\n",
      " [[657  81]\n",
      " [ 76 611]]\n",
      "Report               precision    recall  f1-score   support\n",
      "\n",
      "           0       0.90      0.89      0.89       738\n",
      "           1       0.88      0.89      0.89       687\n",
      "\n",
      "    accuracy                           0.89      1425\n",
      "   macro avg       0.89      0.89      0.89      1425\n",
      "weighted avg       0.89      0.89      0.89      1425\n",
      "\n",
      "===================================\n",
      "\n",
      "\n",
      "Random Forest\n",
      "Model Training Performance\n",
      "Accuracy: 0.9228070175438596\n",
      "Confusion Matrix:\n",
      " [[672  66]\n",
      " [ 44 643]]\n",
      "Report               precision    recall  f1-score   support\n",
      "\n",
      "           0       0.94      0.91      0.92       738\n",
      "           1       0.91      0.94      0.92       687\n",
      "\n",
      "    accuracy                           0.92      1425\n",
      "   macro avg       0.92      0.92      0.92      1425\n",
      "weighted avg       0.92      0.92      0.92      1425\n",
      "\n",
      "===================================\n",
      "\n",
      "\n",
      "K Neighbors\n",
      "Model Training Performance\n",
      "Accuracy: 0.8835087719298246\n",
      "Confusion Matrix:\n",
      " [[622 116]\n",
      " [ 50 637]]\n",
      "Report               precision    recall  f1-score   support\n",
      "\n",
      "           0       0.93      0.84      0.88       738\n",
      "           1       0.85      0.93      0.88       687\n",
      "\n",
      "    accuracy                           0.88      1425\n",
      "   macro avg       0.89      0.89      0.88      1425\n",
      "weighted avg       0.89      0.88      0.88      1425\n",
      "\n",
      "===================================\n",
      "\n",
      "\n",
      "Decision Tree\n",
      "Model Training Performance\n",
      "Accuracy: 0.8863157894736842\n",
      "Confusion Matrix:\n",
      " [[633 105]\n",
      " [ 57 630]]\n",
      "Report               precision    recall  f1-score   support\n",
      "\n",
      "           0       0.92      0.86      0.89       738\n",
      "           1       0.86      0.92      0.89       687\n",
      "\n",
      "    accuracy                           0.89      1425\n",
      "   macro avg       0.89      0.89      0.89      1425\n",
      "weighted avg       0.89      0.89      0.89      1425\n",
      "\n",
      "===================================\n",
      "\n",
      "\n",
      "Gradient Boosting\n",
      "Model Training Performance\n",
      "Accuracy: 0.8975438596491228\n",
      "Confusion Matrix:\n",
      " [[663  75]\n",
      " [ 71 616]]\n",
      "Report               precision    recall  f1-score   support\n",
      "\n",
      "           0       0.90      0.90      0.90       738\n",
      "           1       0.89      0.90      0.89       687\n",
      "\n",
      "    accuracy                           0.90      1425\n",
      "   macro avg       0.90      0.90      0.90      1425\n",
      "weighted avg       0.90      0.90      0.90      1425\n",
      "\n",
      "===================================\n",
      "\n",
      "\n",
      "Ada Boost\n",
      "Model Training Performance\n",
      "Accuracy: 0.8743859649122807\n",
      "Confusion Matrix:\n",
      " [[645  93]\n",
      " [ 86 601]]\n",
      "Report               precision    recall  f1-score   support\n",
      "\n",
      "           0       0.88      0.87      0.88       738\n",
      "           1       0.87      0.87      0.87       687\n",
      "\n",
      "    accuracy                           0.87      1425\n",
      "   macro avg       0.87      0.87      0.87      1425\n",
      "weighted avg       0.87      0.87      0.87      1425\n",
      "\n",
      "===================================\n",
      "\n",
      "\n"
     ]
    }
   ],
   "source": [
    "models = {\n",
    "    'Logistic Regression':LogisticRegression(),\n",
    "    'SVC': SVC(),\n",
    "    'Random Forest':RandomForestClassifier(),\n",
    "    'K Neighbors':KNeighborsClassifier(),\n",
    "    'Decision Tree':DecisionTreeClassifier(),\n",
    "    'Gradient Boosting':GradientBoostingClassifier(),\n",
    "    'Ada Boost': AdaBoostClassifier()\n",
    "}\n",
    "\n",
    "model_list = []\n",
    "acc_list=[]\n",
    "\n",
    "for i in range(len(list(models))):\n",
    "    model = list(models.values())[i]\n",
    "    model.fit(X_train,y_train)\n",
    "\n",
    "    # Make Predictions\n",
    "    y_pred = model.predict(X_test)\n",
    "\n",
    "    accuracy, conf_matrix, report =evaluate_model(y_test,y_pred)\n",
    "\n",
    "    print(list(models.keys())[i])\n",
    "    model_list.append(list(models.values())[i])\n",
    "\n",
    "    print('Model Training Performance')\n",
    "    print(\"Accuracy:\",accuracy)\n",
    "    print(\"Confusion Matrix:\\n\",conf_matrix)\n",
    "    print(\"Report\",report)\n",
    "\n",
    "    acc_list.append(accuracy)\n",
    "    \n",
    "    print('='*35)\n",
    "    print('\\n')"
   ]
  },
  {
   "cell_type": "code",
   "execution_count": null,
   "id": "c3dd9cd7",
   "metadata": {},
   "outputs": [],
   "source": []
  },
  {
   "cell_type": "code",
   "execution_count": null,
   "id": "57230115",
   "metadata": {},
   "outputs": [],
   "source": []
  },
  {
   "cell_type": "code",
   "execution_count": null,
   "id": "bd032c06",
   "metadata": {},
   "outputs": [],
   "source": []
  },
  {
   "cell_type": "code",
   "execution_count": null,
   "id": "d1f96744",
   "metadata": {},
   "outputs": [],
   "source": []
  },
  {
   "cell_type": "code",
   "execution_count": null,
   "id": "3d7d3b9d",
   "metadata": {},
   "outputs": [],
   "source": []
  },
  {
   "cell_type": "code",
   "execution_count": null,
   "id": "b80db48e",
   "metadata": {},
   "outputs": [],
   "source": []
  },
  {
   "cell_type": "code",
   "execution_count": null,
   "id": "8d68b512",
   "metadata": {},
   "outputs": [],
   "source": []
  },
  {
   "cell_type": "code",
   "execution_count": null,
   "id": "f22992d8",
   "metadata": {},
   "outputs": [],
   "source": []
  },
  {
   "cell_type": "code",
   "execution_count": null,
   "id": "c276a661",
   "metadata": {},
   "outputs": [],
   "source": []
  }
 ],
 "metadata": {
  "kernelspec": {
   "display_name": "Python 3 (ipykernel)",
   "language": "python",
   "name": "python3"
  },
  "language_info": {
   "codemirror_mode": {
    "name": "ipython",
    "version": 3
   },
   "file_extension": ".py",
   "mimetype": "text/x-python",
   "name": "python",
   "nbconvert_exporter": "python",
   "pygments_lexer": "ipython3",
   "version": "3.10.8"
  }
 },
 "nbformat": 4,
 "nbformat_minor": 5
}
